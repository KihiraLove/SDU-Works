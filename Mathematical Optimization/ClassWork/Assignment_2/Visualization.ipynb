{
 "cells": [
  {
   "metadata": {
    "ExecuteTime": {
     "end_time": "2025-05-29T13:36:29.637420Z",
     "start_time": "2025-05-29T13:36:29.632169Z"
    }
   },
   "cell_type": "code",
   "source": [
    "import re\n",
    "import ast\n",
    "import pandas as pd\n",
    "import matplotlib.pyplot as plt\n",
    "import matplotlib\n",
    "import numpy as np\n",
    "import os"
   ],
   "id": "cc8aaf56b0f268fa",
   "outputs": [],
   "execution_count": 9
  },
  {
   "metadata": {
    "ExecuteTime": {
     "end_time": "2025-05-29T13:36:38.391381Z",
     "start_time": "2025-05-29T13:36:38.386097Z"
    }
   },
   "cell_type": "code",
   "source": [
    "# Paths\n",
    "DATA_DIR = 'data'\n",
    "COORD_FILE = os.path.join(DATA_DIR, 'instance_coordinates.txt')\n",
    "OUT_TXT = 'output.txt'\n",
    "OUT_DIR = 'plots'\n",
    "\n",
    "os.makedirs(OUT_DIR, exist_ok=True)"
   ],
   "id": "bd86554d035c3030",
   "outputs": [],
   "execution_count": 10
  },
  {
   "metadata": {
    "ExecuteTime": {
     "end_time": "2025-05-29T13:36:44.610618Z",
     "start_time": "2025-05-29T13:36:44.602943Z"
    }
   },
   "cell_type": "code",
   "source": [
    "# 1. Load coordinates\n",
    "df_coords = pd.read_csv(\n",
    "    COORD_FILE,\n",
    "    sep=r'\\s+',\n",
    "    header=None,\n",
    "    names=['id', 'x', 'y']\n",
    ")\n",
    "coords = df_coords.set_index('id')[['x', 'y']]"
   ],
   "id": "3391a5b2b72aeda6",
   "outputs": [],
   "execution_count": 11
  },
  {
   "metadata": {
    "ExecuteTime": {
     "end_time": "2025-05-29T13:36:51.489068Z",
     "start_time": "2025-05-29T13:36:51.482072Z"
    }
   },
   "cell_type": "code",
   "source": [
    "# 2. Parse routes\n",
    "pattern = re.compile(\n",
    "    r\"^Vehicle\\s+\\d+\\s+route\\s+\\(Distance:[^\\)]+\\):\\s*(\\[[^\\]]+\\])\"\n",
    ")\n",
    "routes = []\n",
    "with open(OUT_TXT, 'r') as f:\n",
    "    for line in f:\n",
    "        m = pattern.match(line)\n",
    "        if m:\n",
    "            routes.append(ast.literal_eval(m.group(1)))"
   ],
   "id": "774ab3e717bd6e5b",
   "outputs": [],
   "execution_count": 12
  },
  {
   "metadata": {
    "ExecuteTime": {
     "end_time": "2025-05-29T13:37:52.498218Z",
     "start_time": "2025-05-29T13:37:52.490248Z"
    }
   },
   "cell_type": "code",
   "source": [
    "# 3. Generate a unique color for each route via HSV\n",
    "num_routes = len(routes)\n",
    "hsv_cmap = matplotlib.colormaps['hsv']\n",
    "colors = [hsv_cmap(i / num_routes) for i in range(num_routes)]"
   ],
   "id": "336e3f71f8b739d1",
   "outputs": [],
   "execution_count": 13
  },
  {
   "metadata": {
    "ExecuteTime": {
     "end_time": "2025-05-29T13:38:07.565325Z",
     "start_time": "2025-05-29T13:38:06.401936Z"
    }
   },
   "cell_type": "code",
   "source": [
    "# 4. Combined plot\n",
    "plt.figure(figsize=(10, 10))\n",
    "plt.scatter(coords['x'], coords['y'], c='lightgrey', s=30, label='Customers')\n",
    "depot = coords.loc[1]\n",
    "plt.scatter(depot.x, depot.y, c='red', s=120, marker='*', label='Depot')\n",
    "\n",
    "for idx, route in enumerate(routes):\n",
    "    pts = np.array([coords.loc[node + 1] for node in route])\n",
    "    plt.plot(\n",
    "        pts[:, 0], pts[:, 1],\n",
    "        marker='o', linestyle='-',\n",
    "        linewidth=1, markersize=4,\n",
    "        color=colors[idx],\n",
    "        label=f'Vehicle {idx + 1}'\n",
    "    )\n",
    "\n",
    "plt.title('All VRPTW Routes')\n",
    "plt.xlabel('X coordinate')\n",
    "plt.ylabel('Y coordinate')\n",
    "plt.axis('equal')\n",
    "plt.grid(True)\n",
    "plt.legend(fontsize='small', ncol=2, loc='upper right')\n",
    "plt.tight_layout()\n",
    "plt.savefig(os.path.join(OUT_DIR, 'all_routes.png'), dpi=300)\n",
    "plt.close()"
   ],
   "id": "bc29b30797d39f2f",
   "outputs": [],
   "execution_count": 14
  },
  {
   "metadata": {
    "ExecuteTime": {
     "end_time": "2025-05-29T13:38:40.482842Z",
     "start_time": "2025-05-29T13:38:22.015560Z"
    }
   },
   "cell_type": "code",
   "source": [
    "# 5. Separate plots\n",
    "for idx, route in enumerate(routes):\n",
    "    plt.figure(figsize=(8, 8))\n",
    "    plt.scatter(coords['x'], coords['y'], c='lightgrey', s=20)\n",
    "    plt.scatter(depot.x, depot.y, c='red', s=100, marker='*')\n",
    "\n",
    "    pts = np.array([coords.loc[node + 1] for node in route])\n",
    "    plt.plot(\n",
    "        pts[:, 0], pts[:, 1],\n",
    "        marker='o', linestyle='-',\n",
    "        linewidth=1.5, markersize=6,\n",
    "        color=colors[idx]\n",
    "    )\n",
    "\n",
    "    plt.title(f'Vehicle {idx + 1} Route')\n",
    "    plt.xlabel('X coordinate')\n",
    "    plt.ylabel('Y coordinate')\n",
    "    plt.axis('equal')\n",
    "    plt.grid(True)\n",
    "    plt.tight_layout()\n",
    "    filename = f'route_{idx + 1}.png'\n",
    "    plt.savefig(os.path.join(OUT_DIR, filename), dpi=300)\n",
    "    plt.close()\n",
    "\n",
    "print(f\"Saved combined plot to {OUT_DIR}/all_routes.png\")\n",
    "print(f\"Saved {len(routes)} individual route plots to {OUT_DIR}/route_<veh_id>.png\")"
   ],
   "id": "6c2e58272eb176e8",
   "outputs": [
    {
     "name": "stdout",
     "output_type": "stream",
     "text": [
      "Saved combined plot to plots/all_routes.png\n",
      "Saved 51 individual route plots to plots/route_<veh_id>.png\n"
     ]
    }
   ],
   "execution_count": 15
  }
 ],
 "metadata": {
  "kernelspec": {
   "display_name": "Python 3",
   "language": "python",
   "name": "python3"
  },
  "language_info": {
   "codemirror_mode": {
    "name": "ipython",
    "version": 2
   },
   "file_extension": ".py",
   "mimetype": "text/x-python",
   "name": "python",
   "nbconvert_exporter": "python",
   "pygments_lexer": "ipython2",
   "version": "2.7.6"
  }
 },
 "nbformat": 4,
 "nbformat_minor": 5
}
